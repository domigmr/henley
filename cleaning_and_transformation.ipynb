{
 "cells": [
  {
   "cell_type": "code",
   "execution_count": 1,
   "id": "36989104",
   "metadata": {},
   "outputs": [],
   "source": [
    "import json\n",
    "import pandas as pd\n",
    "import numpy as np\n",
    "from datetime import datetime\n",
    "from difflib import SequenceMatcher"
   ]
  },
  {
   "cell_type": "code",
   "execution_count": 2,
   "id": "4ace69b3",
   "metadata": {},
   "outputs": [],
   "source": [
    "with open(\"scraped_results_v2.json\", \"r\") as f:\n",
    "    results_json = json.load(f)"
   ]
  },
  {
   "cell_type": "code",
   "execution_count": 21,
   "id": "6db5cd6f",
   "metadata": {},
   "outputs": [
    {
     "data": {
      "text/html": [
       "<div>\n",
       "<style scoped>\n",
       "    .dataframe tbody tr th:only-of-type {\n",
       "        vertical-align: middle;\n",
       "    }\n",
       "\n",
       "    .dataframe tbody tr th {\n",
       "        vertical-align: top;\n",
       "    }\n",
       "\n",
       "    .dataframe thead th {\n",
       "        text-align: right;\n",
       "    }\n",
       "</style>\n",
       "<table border=\"1\" class=\"dataframe\">\n",
       "  <thead>\n",
       "    <tr style=\"text-align: right;\">\n",
       "      <th></th>\n",
       "      <th>page_number</th>\n",
       "      <th>winner</th>\n",
       "      <th>loser</th>\n",
       "      <th>cup</th>\n",
       "      <th>stage</th>\n",
       "      <th>boatclass</th>\n",
       "      <th>winner_station</th>\n",
       "      <th>time</th>\n",
       "      <th>date</th>\n",
       "      <th>barrier_time</th>\n",
       "      <th>barrier_loser_leading</th>\n",
       "      <th>fawley_time</th>\n",
       "      <th>fawley_loser_leading</th>\n",
       "      <th>finish_time</th>\n",
       "      <th>verdict</th>\n",
       "    </tr>\n",
       "  </thead>\n",
       "  <tbody>\n",
       "    <tr>\n",
       "      <th>0</th>\n",
       "      <td>1</td>\n",
       "      <td>Oxford Brookes University 'A'</td>\n",
       "      <td>Oxford Brookes University 'B'</td>\n",
       "      <td>The Prince Albert Challenge Cup</td>\n",
       "      <td>final</td>\n",
       "      <td>Class M4+</td>\n",
       "      <td>Station 1 - Berks</td>\n",
       "      <td>4:30 pm</td>\n",
       "      <td>Sun 7 Jul 24</td>\n",
       "      <td>02:03</td>\n",
       "      <td>False</td>\n",
       "      <td>03:29</td>\n",
       "      <td>False</td>\n",
       "      <td>07:13</td>\n",
       "      <td>4 ½ length</td>\n",
       "    </tr>\n",
       "    <tr>\n",
       "      <th>1</th>\n",
       "      <td>1</td>\n",
       "      <td>Oxford Brookes University</td>\n",
       "      <td>Leander Club</td>\n",
       "      <td>The Stewards' Challenge Cup</td>\n",
       "      <td>final</td>\n",
       "      <td>Class M4</td>\n",
       "      <td>Station 1 - Berks</td>\n",
       "      <td>4:20 pm</td>\n",
       "      <td>Sun 7 Jul 24</td>\n",
       "      <td>01:59</td>\n",
       "      <td>True</td>\n",
       "      <td>03:19</td>\n",
       "      <td>False</td>\n",
       "      <td>06:50</td>\n",
       "      <td>2 lengths</td>\n",
       "    </tr>\n",
       "    <tr>\n",
       "      <th>2</th>\n",
       "      <td>1</td>\n",
       "      <td>Wycliffe College 'A'</td>\n",
       "      <td>Marlow Rowing Club</td>\n",
       "      <td>The Diamond Jubilee Challenge Cup</td>\n",
       "      <td>final</td>\n",
       "      <td>Class W4</td>\n",
       "      <td>Station 1 - Berks</td>\n",
       "      <td>4:10 pm</td>\n",
       "      <td>Sun 7 Jul 24</td>\n",
       "      <td>02:11</td>\n",
       "      <td>False</td>\n",
       "      <td>03:43</td>\n",
       "      <td>False</td>\n",
       "      <td>07:51</td>\n",
       "      <td>4 lengths</td>\n",
       "    </tr>\n",
       "  </tbody>\n",
       "</table>\n",
       "</div>"
      ],
      "text/plain": [
       "   page_number                         winner                          loser  \\\n",
       "0            1  Oxford Brookes University 'A'  Oxford Brookes University 'B'   \n",
       "1            1      Oxford Brookes University                   Leander Club   \n",
       "2            1           Wycliffe College 'A'             Marlow Rowing Club   \n",
       "\n",
       "                                 cup  stage  boatclass     winner_station  \\\n",
       "0    The Prince Albert Challenge Cup  final  Class M4+  Station 1 - Berks   \n",
       "1        The Stewards' Challenge Cup  final   Class M4  Station 1 - Berks   \n",
       "2  The Diamond Jubilee Challenge Cup  final   Class W4  Station 1 - Berks   \n",
       "\n",
       "      time          date barrier_time  barrier_loser_leading fawley_time  \\\n",
       "0  4:30 pm  Sun 7 Jul 24        02:03                  False       03:29   \n",
       "1  4:20 pm  Sun 7 Jul 24        01:59                   True       03:19   \n",
       "2  4:10 pm  Sun 7 Jul 24        02:11                  False       03:43   \n",
       "\n",
       "   fawley_loser_leading finish_time     verdict  \n",
       "0                 False       07:13  4 ½ length  \n",
       "1                 False       06:50   2 lengths  \n",
       "2                 False       07:51   4 lengths  "
      ]
     },
     "execution_count": 21,
     "metadata": {},
     "output_type": "execute_result"
    }
   ],
   "source": [
    "df = pd.json_normalize(results_json)\n",
    "df.head(3)"
   ]
  },
  {
   "cell_type": "code",
   "execution_count": 4,
   "id": "dd6d6b52",
   "metadata": {},
   "outputs": [
    {
     "data": {
      "text/plain": [
       "True"
      ]
     },
     "execution_count": 4,
     "metadata": {},
     "output_type": "execute_result"
    }
   ],
   "source": [
    "# checking that we scraped every page\n",
    "all(1 <= num <= 378 for num in df['page_number'].unique())"
   ]
  },
  {
   "cell_type": "code",
   "execution_count": 5,
   "id": "3f83563d",
   "metadata": {},
   "outputs": [
    {
     "data": {
      "text/plain": [
       "count\n",
       "20    377\n",
       "16      1\n",
       "Name: count, dtype: int64"
      ]
     },
     "execution_count": 5,
     "metadata": {},
     "output_type": "execute_result"
    }
   ],
   "source": [
    "# checking that we more or less got the right numbers from each page\n",
    "# looks like we got a full list from all but the last page which makes sense\n",
    "# meta value counts!\n",
    "df['page_number'].value_counts().value_counts()"
   ]
  },
  {
   "cell_type": "code",
   "execution_count": 6,
   "id": "b9d766e4",
   "metadata": {},
   "outputs": [
    {
     "data": {
      "text/html": [
       "<div>\n",
       "<style scoped>\n",
       "    .dataframe tbody tr th:only-of-type {\n",
       "        vertical-align: middle;\n",
       "    }\n",
       "\n",
       "    .dataframe tbody tr th {\n",
       "        vertical-align: top;\n",
       "    }\n",
       "\n",
       "    .dataframe thead th {\n",
       "        text-align: right;\n",
       "    }\n",
       "</style>\n",
       "<table border=\"1\" class=\"dataframe\">\n",
       "  <thead>\n",
       "    <tr style=\"text-align: right;\">\n",
       "      <th></th>\n",
       "      <th>page_number</th>\n",
       "      <th>winner</th>\n",
       "      <th>loser</th>\n",
       "      <th>cup</th>\n",
       "      <th>stage</th>\n",
       "      <th>boatclass</th>\n",
       "      <th>winner_station</th>\n",
       "      <th>time</th>\n",
       "      <th>date</th>\n",
       "      <th>barrier_time</th>\n",
       "      <th>barrier_loser_leading</th>\n",
       "      <th>fawley_time</th>\n",
       "      <th>fawley_loser_leading</th>\n",
       "      <th>finish_time</th>\n",
       "      <th>verdict</th>\n",
       "    </tr>\n",
       "  </thead>\n",
       "  <tbody>\n",
       "    <tr>\n",
       "      <th>6233</th>\n",
       "      <td>312</td>\n",
       "      <td>Commercial Rowing Club, Ireland</td>\n",
       "      <td>The Tideway Scullers' School 'A'</td>\n",
       "      <td>The Men's Quadruple Sculls</td>\n",
       "      <td>HEATS</td>\n",
       "      <td>Class M4x</td>\n",
       "      <td>Station 2 - Bucks</td>\n",
       "      <td>2:00 am</td>\n",
       "      <td>Fri 4 Jul 03</td>\n",
       "      <td>1:58</td>\n",
       "      <td>False</td>\n",
       "      <td>3:19</td>\n",
       "      <td>False</td>\n",
       "      <td>7:03</td>\n",
       "      <td>2¾ Lengths</td>\n",
       "    </tr>\n",
       "  </tbody>\n",
       "</table>\n",
       "</div>"
      ],
      "text/plain": [
       "      page_number                           winner  \\\n",
       "6233          312  Commercial Rowing Club, Ireland   \n",
       "\n",
       "                                 loser                         cup  stage  \\\n",
       "6233  The Tideway Scullers' School 'A'  The Men's Quadruple Sculls  HEATS   \n",
       "\n",
       "      boatclass     winner_station     time          date barrier_time  \\\n",
       "6233  Class M4x  Station 2 - Bucks  2:00 am  Fri 4 Jul 03         1:58   \n",
       "\n",
       "      barrier_loser_leading fawley_time  fawley_loser_leading finish_time  \\\n",
       "6233                  False        3:19                 False        7:03   \n",
       "\n",
       "         verdict  \n",
       "6233  2¾ Lengths  "
      ]
     },
     "execution_count": 6,
     "metadata": {},
     "output_type": "execute_result"
    }
   ],
   "source": [
    "# did we someone how pick up an identical line at any point?\n",
    "df.duplicated().value_counts()\n",
    "df.loc[df.duplicated() == True]"
   ]
  },
  {
   "cell_type": "markdown",
   "id": "a86c3a84",
   "metadata": {},
   "source": [
    "Looks like we've picked up an extra one. Let's delete that. Checking the website, it looks like it's duplicated in the official results."
   ]
  },
  {
   "cell_type": "code",
   "execution_count": 7,
   "id": "397debed",
   "metadata": {},
   "outputs": [],
   "source": [
    "df = df.drop(df[df.duplicated() == True].index)"
   ]
  },
  {
   "cell_type": "markdown",
   "id": "2aaf5e14",
   "metadata": {},
   "source": [
    "## Formatting"
   ]
  },
  {
   "cell_type": "markdown",
   "id": "a332be36",
   "metadata": {},
   "source": [
    "Cleaning up the stages column."
   ]
  },
  {
   "cell_type": "code",
   "execution_count": 8,
   "id": "3ded73b5",
   "metadata": {},
   "outputs": [],
   "source": [
    "df['stage'] = df['stage'].str.lower()\n",
    "df.loc[df['stage'] == 'semi-finals', 'stage'] = 'semi-final'"
   ]
  },
  {
   "cell_type": "markdown",
   "id": "97134a25",
   "metadata": {},
   "source": [
    "The boatclass column."
   ]
  },
  {
   "cell_type": "code",
   "execution_count": 9,
   "id": "10344ae6",
   "metadata": {},
   "outputs": [],
   "source": [
    "df['boatclass'] = df['boatclass'].str[6:]"
   ]
  },
  {
   "cell_type": "markdown",
   "id": "f3480f70",
   "metadata": {},
   "source": [
    "Converting the barrier, fawley, and finish times into seconds."
   ]
  },
  {
   "cell_type": "code",
   "execution_count": 10,
   "id": "0b8bec53",
   "metadata": {},
   "outputs": [],
   "source": [
    "def convert_to_seconds(time_str):\n",
    "    if pd.isna(time_str):\n",
    "        return None\n",
    "    minutes, seconds = map(int, time_str.split(':'))\n",
    "    return minutes * 60 + seconds\n",
    "\n",
    "def clean_times(column_name):\n",
    "    df[column_name] = df[column_name].replace({'NTT' : None,'' : np.nan})\n",
    "    df[column_name] = df[column_name].str.replace(\"=\", \"\")\n",
    "    df[column_name] = df[column_name].str.replace(\",\", \":\")\n",
    "    df[column_name] = df[column_name].apply(convert_to_seconds)\n",
    "    \n",
    "clean_times('barrier_time')\n",
    "clean_times('fawley_time')\n",
    "clean_times('finish_time')"
   ]
  },
  {
   "cell_type": "markdown",
   "id": "74cd1d33",
   "metadata": {},
   "source": [
    "Time of day to 24h. Note that most of these results are just labelled as 2am, which obviously isn't correct. I've replaced these with None values."
   ]
  },
  {
   "cell_type": "code",
   "execution_count": 11,
   "id": "a7f07be2",
   "metadata": {},
   "outputs": [],
   "source": [
    "def convert_time_to_24hr(time_str):\n",
    "    hour, minute = map(str, time_str.split(\":\"))\n",
    "    minute, time_of_day = map(str, minute.split(\" \"))\n",
    "    \n",
    "    if time_of_day == \"pm\" and hour != \"0\":\n",
    "        hour = int(hour) + 12\n",
    "    elif time_of_day == \"pm\" and hour == \"0\":\n",
    "        hour = 12    \n",
    "    elif time_of_day == \"am\" and len(hour) == 1:\n",
    "        hour = \"0\" + hour\n",
    "    \n",
    "    converted_time = str(hour) + \":\" + minute\n",
    "    \n",
    "    # a lot of races have been put at 02:00 - presumably the time wasn't recorded\n",
    "    if converted_time == \"02:00\":\n",
    "        converted_time = None\n",
    "    \n",
    "    return converted_time\n",
    "\n",
    "df['time'] = df['time'].apply(convert_time_to_24hr)"
   ]
  },
  {
   "cell_type": "markdown",
   "id": "e5f78337",
   "metadata": {},
   "source": [
    "Converting the lengths to something usable"
   ]
  },
  {
   "cell_type": "code",
   "execution_count": 12,
   "id": "6d874d43",
   "metadata": {},
   "outputs": [],
   "source": [
    "def convert_verdict_to_lengths(verdict):\n",
    "    \n",
    "    length_mapping = {'¼' : '.25', '⅓' : '.33', '½' : '.5', '⅔' : '.66', '¾' : '.75'}\n",
    "    \n",
    "    verdict = verdict.lower()\n",
    "    \n",
    "    verdict = verdict.replace('lengths', 'length')\n",
    "    verdict = verdict.replace('lenths', 'length')\n",
    "    verdict = verdict.replace('lenghts', 'length')\n",
    "    \n",
    "    for k, v in length_mapping.items():\n",
    "        if k in verdict:\n",
    "            verdict = verdict.replace(k, v)\n",
    "    \n",
    "    verdict = verdict.replace(' ', '')\n",
    "    \n",
    "    try:\n",
    "        int(verdict[-1])\n",
    "        verdict = verdict + 'l'\n",
    "    except:\n",
    "        pass\n",
    "    \n",
    "    \n",
    "    if 'length' in verdict:\n",
    "        verdict = verdict.replace('length', 'l')\n",
    "        \n",
    "                    \n",
    "    if verdict.startswith('.'):\n",
    "        verdict = '0' + verdict\n",
    "        \n",
    "    \n",
    "    if 'feet' in verdict:\n",
    "        verdict = verdict.replace('feet', 'ft')\n",
    "        \n",
    "    elif 'foot' in verdict:\n",
    "        verdict = verdict.replace('foot', 'ft')    \n",
    "    \n",
    "    elif 'disqualified' in verdict:\n",
    "        verdict = 'disqualified'\n",
    "        \n",
    "    elif 'nro' in verdict:\n",
    "        verdict = 'not rowed out'\n",
    "        \n",
    "    elif verdict == 'sculledover':\n",
    "        verdict = 'rowed over'\n",
    "    elif verdict == 'rowedover':\n",
    "        verdict = 'rowed over'\n",
    "    elif verdict == 'notrowedout':\n",
    "        verdict = 'not rowed out'\n",
    "    elif verdict == 'canvas':\n",
    "        verdict = '0.33l'\n",
    "    elif verdict == 'easiy':\n",
    "        verdict = 'easily'\n",
    "        \n",
    "    if verdict.endswith('l'):\n",
    "        verdict = verdict.replace('l', ' lengths')\n",
    "        \n",
    "        \n",
    "\n",
    "    return verdict\n",
    "\n",
    "df['verdict'] = df['verdict'].apply(convert_verdict_to_lengths)"
   ]
  },
  {
   "cell_type": "markdown",
   "id": "ebd078c2",
   "metadata": {},
   "source": [
    "Change the date to datetime format"
   ]
  },
  {
   "cell_type": "code",
   "execution_count": 13,
   "id": "ff1deba2",
   "metadata": {},
   "outputs": [],
   "source": [
    "df['date'].unique()\n",
    "\n",
    "def to_datetime(date_string):\n",
    "    date_split = date_string.split()\n",
    "    date_string = (' ').join(date_split[1:])\n",
    "    date_obj = datetime.strptime(date_string, '%d %b %y')\n",
    "    \n",
    "    return date_obj\n",
    "    \n",
    "df['date'] = df['date'].apply(to_datetime)\n"
   ]
  },
  {
   "cell_type": "markdown",
   "id": "0f5b662e",
   "metadata": {},
   "source": [
    "Let's also extract the club names."
   ]
  },
  {
   "cell_type": "code",
   "execution_count": 22,
   "id": "b3eaec47",
   "metadata": {},
   "outputs": [],
   "source": [
    "df['winner'].unique()\n",
    "\n",
    "def get_club(boat_name):\n",
    "    internal_rankings = [\" 'A'\", \" 'B'\", \" 'C'\", \" 'D'\", \" 'E'\", \" 'F'\", \" 'G'\", \" 'H'\", \" 'I'\"]\n",
    "    \n",
    "    club_name = boat_name\n",
    "    \n",
    "    \n",
    "    for rank in internal_rankings:\n",
    "        if rank in boat_name:\n",
    "            club_name = boat_name.replace(rank, '')\n",
    "            \n",
    "    club_name = club_name.strip()\n",
    "\n",
    "\n",
    "    return club_name\n",
    "\n",
    "df['winner'] = df['winner'].str.strip()\n",
    "df['winning_club'] = df['winner'].apply(get_club)\n",
    "\n",
    "df['loser'] = df['loser'].str.strip()\n",
    "df['losing_club'] = df['loser'].apply(get_club)\n",
    "\n",
    "df = df.iloc[:, [0, 1, 15, 2, 16, 3, 4, 5, 6, 7, 8, 9, 10, 11, 12, 13, 14]]"
   ]
  },
  {
   "cell_type": "markdown",
   "id": "6df3eb9c",
   "metadata": {},
   "source": [
    "The final table."
   ]
  },
  {
   "cell_type": "code",
   "execution_count": 24,
   "id": "03bafcac",
   "metadata": {},
   "outputs": [
    {
     "data": {
      "text/html": [
       "<div>\n",
       "<style scoped>\n",
       "    .dataframe tbody tr th:only-of-type {\n",
       "        vertical-align: middle;\n",
       "    }\n",
       "\n",
       "    .dataframe tbody tr th {\n",
       "        vertical-align: top;\n",
       "    }\n",
       "\n",
       "    .dataframe thead th {\n",
       "        text-align: right;\n",
       "    }\n",
       "</style>\n",
       "<table border=\"1\" class=\"dataframe\">\n",
       "  <thead>\n",
       "    <tr style=\"text-align: right;\">\n",
       "      <th></th>\n",
       "      <th>page_number</th>\n",
       "      <th>winner</th>\n",
       "      <th>winning_club</th>\n",
       "      <th>loser</th>\n",
       "      <th>losing_club</th>\n",
       "      <th>cup</th>\n",
       "      <th>stage</th>\n",
       "      <th>boatclass</th>\n",
       "      <th>winner_station</th>\n",
       "      <th>time</th>\n",
       "      <th>date</th>\n",
       "      <th>barrier_time</th>\n",
       "      <th>barrier_loser_leading</th>\n",
       "      <th>fawley_time</th>\n",
       "      <th>fawley_loser_leading</th>\n",
       "      <th>finish_time</th>\n",
       "      <th>verdict</th>\n",
       "    </tr>\n",
       "  </thead>\n",
       "  <tbody>\n",
       "    <tr>\n",
       "      <th>0</th>\n",
       "      <td>1</td>\n",
       "      <td>Oxford Brookes University 'A'</td>\n",
       "      <td>Oxford Brookes University</td>\n",
       "      <td>Oxford Brookes University 'B'</td>\n",
       "      <td>Oxford Brookes University</td>\n",
       "      <td>The Prince Albert Challenge Cup</td>\n",
       "      <td>final</td>\n",
       "      <td>Class M4+</td>\n",
       "      <td>Station 1 - Berks</td>\n",
       "      <td>4:30 pm</td>\n",
       "      <td>Sun 7 Jul 24</td>\n",
       "      <td>02:03</td>\n",
       "      <td>False</td>\n",
       "      <td>03:29</td>\n",
       "      <td>False</td>\n",
       "      <td>07:13</td>\n",
       "      <td>4 ½ length</td>\n",
       "    </tr>\n",
       "    <tr>\n",
       "      <th>1</th>\n",
       "      <td>1</td>\n",
       "      <td>Oxford Brookes University</td>\n",
       "      <td>Oxford Brookes University</td>\n",
       "      <td>Leander Club</td>\n",
       "      <td>Leander Club</td>\n",
       "      <td>The Stewards' Challenge Cup</td>\n",
       "      <td>final</td>\n",
       "      <td>Class M4</td>\n",
       "      <td>Station 1 - Berks</td>\n",
       "      <td>4:20 pm</td>\n",
       "      <td>Sun 7 Jul 24</td>\n",
       "      <td>01:59</td>\n",
       "      <td>True</td>\n",
       "      <td>03:19</td>\n",
       "      <td>False</td>\n",
       "      <td>06:50</td>\n",
       "      <td>2 lengths</td>\n",
       "    </tr>\n",
       "    <tr>\n",
       "      <th>2</th>\n",
       "      <td>1</td>\n",
       "      <td>Wycliffe College 'A'</td>\n",
       "      <td>Wycliffe College</td>\n",
       "      <td>Marlow Rowing Club</td>\n",
       "      <td>Marlow Rowing Club</td>\n",
       "      <td>The Diamond Jubilee Challenge Cup</td>\n",
       "      <td>final</td>\n",
       "      <td>Class W4</td>\n",
       "      <td>Station 1 - Berks</td>\n",
       "      <td>4:10 pm</td>\n",
       "      <td>Sun 7 Jul 24</td>\n",
       "      <td>02:11</td>\n",
       "      <td>False</td>\n",
       "      <td>03:43</td>\n",
       "      <td>False</td>\n",
       "      <td>07:51</td>\n",
       "      <td>4 lengths</td>\n",
       "    </tr>\n",
       "  </tbody>\n",
       "</table>\n",
       "</div>"
      ],
      "text/plain": [
       "   page_number                         winner               winning_club  \\\n",
       "0            1  Oxford Brookes University 'A'  Oxford Brookes University   \n",
       "1            1      Oxford Brookes University  Oxford Brookes University   \n",
       "2            1           Wycliffe College 'A'           Wycliffe College   \n",
       "\n",
       "                           loser                losing_club  \\\n",
       "0  Oxford Brookes University 'B'  Oxford Brookes University   \n",
       "1                   Leander Club               Leander Club   \n",
       "2             Marlow Rowing Club         Marlow Rowing Club   \n",
       "\n",
       "                                 cup  stage  boatclass     winner_station  \\\n",
       "0    The Prince Albert Challenge Cup  final  Class M4+  Station 1 - Berks   \n",
       "1        The Stewards' Challenge Cup  final   Class M4  Station 1 - Berks   \n",
       "2  The Diamond Jubilee Challenge Cup  final   Class W4  Station 1 - Berks   \n",
       "\n",
       "      time          date barrier_time  barrier_loser_leading fawley_time  \\\n",
       "0  4:30 pm  Sun 7 Jul 24        02:03                  False       03:29   \n",
       "1  4:20 pm  Sun 7 Jul 24        01:59                   True       03:19   \n",
       "2  4:10 pm  Sun 7 Jul 24        02:11                  False       03:43   \n",
       "\n",
       "   fawley_loser_leading finish_time     verdict  \n",
       "0                 False       07:13  4 ½ length  \n",
       "1                 False       06:50   2 lengths  \n",
       "2                 False       07:51   4 lengths  "
      ]
     },
     "execution_count": 24,
     "metadata": {},
     "output_type": "execute_result"
    }
   ],
   "source": [
    "df.head(3)"
   ]
  },
  {
   "cell_type": "markdown",
   "id": "e67d3922",
   "metadata": {},
   "source": [
    "Exporting to csv."
   ]
  },
  {
   "cell_type": "code",
   "execution_count": 17,
   "id": "4c9230ca",
   "metadata": {},
   "outputs": [],
   "source": [
    "df.to_csv('henley_results_cleaned.csv', index=False)  "
   ]
  }
 ],
 "metadata": {
  "kernelspec": {
   "display_name": "Python 3 (ipykernel)",
   "language": "python",
   "name": "python3"
  },
  "language_info": {
   "codemirror_mode": {
    "name": "ipython",
    "version": 3
   },
   "file_extension": ".py",
   "mimetype": "text/x-python",
   "name": "python",
   "nbconvert_exporter": "python",
   "pygments_lexer": "ipython3",
   "version": "3.11.2"
  }
 },
 "nbformat": 4,
 "nbformat_minor": 5
}
